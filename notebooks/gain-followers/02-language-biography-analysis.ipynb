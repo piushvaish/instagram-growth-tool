{
 "cells": [
  {
   "cell_type": "code",
   "execution_count": null,
   "metadata": {},
   "outputs": [],
   "source": [
    "import os\n",
    "import glob\n",
    "import pandas as pd\n",
    "import numpy as np\n",
    "import filenames\n",
    "\n",
    "import plotly.express as px\n",
    "from jupyter_dash import JupyterDash\n",
    "from dash import dcc\n",
    "from dash import html\n",
    "from dash.dependencies import Input, Output\n",
    "import plotly.graph_objects as go\n",
    "\n",
    "pd.set_option('display.max_rows', 500, 'display.max_columns', 500,\n",
    "              'display.width', 1000)"
   ]
  },
  {
   "cell_type": "markdown",
   "metadata": {},
   "source": [
    "### Data\n",
    "\n",
    "use glob to get all the csv files in the raw data folder."
   ]
  },
  {
   "cell_type": "code",
   "execution_count": null,
   "metadata": {},
   "outputs": [],
   "source": [
    "profile_files = filenames.profile_folder_path.glob(os.path.join(\"*.csv\"))\n",
    "\n",
    "profile_appended_data = []\n",
    "# loop over the list of csv files\n",
    "for f in profile_files:\n",
    "    data = pd.read_csv(f)\n",
    "    profile_appended_data.append(data)\n",
    "#profile_appended_data\n",
    "\n",
    "df = pd.concat(profile_appended_data)\n",
    "df.reset_index(drop=True, inplace=True)"
   ]
  },
  {
   "cell_type": "markdown",
   "metadata": {},
   "source": [
    "#### Drop duplicate userid"
   ]
  },
  {
   "cell_type": "code",
   "execution_count": null,
   "metadata": {},
   "outputs": [],
   "source": [
    "df = df.drop_duplicates(subset=['userid'], keep='last').reset_index(drop=True)"
   ]
  },
  {
   "cell_type": "markdown",
   "metadata": {},
   "source": [
    "#### Create Label for Followers"
   ]
  },
  {
   "cell_type": "code",
   "execution_count": null,
   "metadata": {},
   "outputs": [],
   "source": [
    "import csv\n",
    "fpath = filenames.followers_path\n",
    "follower = []\n",
    "with open(fpath, newline='') as f:\n",
    "    for i in csv.reader(f):\n",
    "        follower.append(i[0])"
   ]
  },
  {
   "cell_type": "code",
   "execution_count": null,
   "metadata": {},
   "outputs": [],
   "source": [
    "df['is_follower'] = df['username'].isin(follower).astype(int)"
   ]
  },
  {
   "cell_type": "markdown",
   "metadata": {},
   "source": [
    "#### Detect Language of biography"
   ]
  },
  {
   "cell_type": "code",
   "execution_count": null,
   "metadata": {},
   "outputs": [],
   "source": [
    "#! pip install https://github.com/aboSamoor/pycld2/zipball/e3ac86ed4d4902e912691c1531d0c5645382a726\n",
    "# https://towardsdatascience.com/4-python-libraries-to-detect-english-and-non-english-language-c82ad3efd430"
   ]
  },
  {
   "cell_type": "code",
   "execution_count": null,
   "metadata": {},
   "outputs": [],
   "source": [
    "import pycld2 as cld2\n",
    "def detect_language(row):\n",
    "    isReliable, textBytesFound, details, vectors = cld2.detect(\n",
    "        row, returnVectors=True)\n",
    "    return vectors"
   ]
  },
  {
   "cell_type": "code",
   "execution_count": null,
   "metadata": {},
   "outputs": [],
   "source": [
    "df[\"language_detect\"] = [\n",
    "    detect_language(df['biography'][i])\n",
    "    if pd.notnull(df['biography'][i]) else np.NaN\n",
    "    for i in range(0, (df['biography'].shape[0]))\n",
    "]"
   ]
  },
  {
   "cell_type": "code",
   "execution_count": null,
   "metadata": {},
   "outputs": [],
   "source": [
    "df['language'] = df['language_detect'].apply(\n",
    "    lambda x: x if pd.isna(x) else [i[2] for i in x])"
   ]
  },
  {
   "cell_type": "code",
   "execution_count": null,
   "metadata": {},
   "outputs": [],
   "source": [
    "df['language'] = df['language'].apply(lambda x: str(x).strip('[').strip(']'))"
   ]
  },
  {
   "cell_type": "code",
   "execution_count": null,
   "metadata": {},
   "outputs": [],
   "source": [
    "language_df = df['language'].str.split(', ', expand=True)[0].value_counts().to_frame().reset_index()\n",
    "language_df.columns =['Language', 'Count']"
   ]
  },
  {
   "cell_type": "code",
   "execution_count": null,
   "metadata": {},
   "outputs": [],
   "source": [
    "fig = go.Figure()\n",
    "fig.add_trace(go.Bar(x = language_df['Language'], y = language_df['Count'], text= language_df['Count'],\n",
    "            textposition='auto', marker_color='lightslategrey',\n",
    "                name='revenue' ))\n",
    "fig.update_traces(texttemplate='%{text:}', textposition='outside')\n",
    "fig.update_layout(uniformtext_minsize=8, uniformtext_mode='hide')\n",
    "\n",
    "fig.update_layout(\n",
    "    xaxis=dict(\n",
    "        showline=True,\n",
    "        showgrid=False,\n",
    "        showticklabels=True,\n",
    "        linecolor='rgb(204, 204, 204)',\n",
    "        linewidth=2,\n",
    "        ticks='outside',\n",
    "        tickfont=dict(\n",
    "            family='Arial',\n",
    "            size=12,\n",
    "            color='rgb(82, 82, 82)',\n",
    "        ),\n",
    "    ),\n",
    "    yaxis=dict(\n",
    "        showgrid=False,\n",
    "        zeroline=False,\n",
    "        showline=False,\n",
    "        showticklabels=False,\n",
    "        showspikes=False\n",
    "    ),\n",
    "    autosize=True,\n",
    "    margin=dict(\n",
    "        autoexpand=False,\n",
    "        l=100,\n",
    "        r=20,\n",
    "        t=110,\n",
    "    ),\n",
    "    font_family=\"Courier New\",\n",
    "    title_font_family=\"Times New Roman\",\n",
    "    hovermode=\"x unified\",\n",
    "    legend_title_text='Discovery',\n",
    "    legend = dict(\n",
    "    yanchor=\"top\",\n",
    "    y=0.99,\n",
    "    xanchor=\"left\",\n",
    "    x=0.01,\n",
    "    font=dict(\n",
    "            family=\"Arial\",\n",
    "            size=12,\n",
    "            color=\"black\"\n",
    "    ),\n",
    "    ),\n",
    "    plot_bgcolor='white'\n",
    ")"
   ]
  },
  {
   "cell_type": "code",
   "execution_count": null,
   "metadata": {},
   "outputs": [],
   "source": [
    "df.columns"
   ]
  },
  {
   "cell_type": "code",
   "execution_count": null,
   "metadata": {},
   "outputs": [],
   "source": [
    "import plotly.figure_factory as ff"
   ]
  },
  {
   "cell_type": "code",
   "execution_count": null,
   "metadata": {},
   "outputs": [],
   "source": [
    "x1 = df[df['mediacount'] <= 1000]['mediacount'].values\n",
    "x2 = df[df['followers'] <=5000]['followers'].values\n",
    "x3 = df[df['followees'] <= 5000]['followees'].values\n",
    "\n",
    "\n",
    "# Group data together\n",
    "hist_data = [x1, x2, x3]\n",
    "\n",
    "group_labels = ['MediaCount', 'Followers' , 'Followees']\n",
    "\n",
    "# Create distplot with custom bin_size\n",
    "fig = ff.create_distplot(hist_data, group_labels, bin_size=[50, 10, 10])\n",
    "fig.show()"
   ]
  },
  {
   "cell_type": "markdown",
   "metadata": {},
   "source": [
    "The amount of posts is not an indication of number of followers or followees for a profile. \n",
    "There are many features that can have an impact. e.g., how many years the profile is active, deleting their posts over time and popularity of the person etc."
   ]
  },
  {
   "cell_type": "code",
   "execution_count": null,
   "metadata": {},
   "outputs": [],
   "source": []
  }
 ],
 "metadata": {
  "interpreter": {
   "hash": "8e88e18f642312201c56837a6b99762295fbd9da17f5aaf449f73ef004e8be5c"
  },
  "kernelspec": {
   "display_name": "instagram-growth-strategy",
   "language": "python",
   "name": "instagram-growth-strategy"
  },
  "language_info": {
   "codemirror_mode": {
    "name": "ipython",
    "version": 3
   },
   "file_extension": ".py",
   "mimetype": "text/x-python",
   "name": "python",
   "nbconvert_exporter": "python",
   "pygments_lexer": "ipython3",
   "version": "3.9.10"
  }
 },
 "nbformat": 4,
 "nbformat_minor": 4
}
