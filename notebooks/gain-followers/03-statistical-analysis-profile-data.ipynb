{
 "cells": [
  {
   "cell_type": "markdown",
   "metadata": {},
   "source": [
    "### The Question to be Answered\n",
    "\n",
    "Before we decide on which test to use, we need to be clear of what we want to solve. Is it:\n",
    "\n",
    "* To validate whether the population mean is correct\n",
    "* To compare the difference between 2 groups of data to see whether the difference is statistically significant\n",
    "* To validate whether there’s a relationship between 2 categorical variables\n",
    "\n",
    "#### Null and Alternative Hypothesis\n",
    "Next, you will be deciding on the hypothesis based on your test objective. A null hypothesis (H0) proposes that no significant difference exists in a set of given observations, and an alternative hypothesis (H1) proposes otherwise.\n",
    "\n",
    "For rejecting a null hypothesis, a test statistic is calculated. This test-statistic is then compared with a critical value. \n",
    "\n",
    "The critical values are the boundaries of the critical region.\n",
    "* If the test statistic > critical value, the null hypothesis is rejected.\n",
    "* If the test statistic ≤ critical value, the null hypothesis is accepted.\n",
    "\n",
    "P-Value\n",
    "\n",
    "Other than test statistic, P-value is another important result to look at. P-value is the level of marginal significance within a statistical hypothesis test, representing the probability of the occurrence of a given event. Therefore, a P-value that is less than 0.05, indicates strong evidence against the null hypothesis, so you reject the null hypothesis.\n",
    "The lower a P-value, the stronger the evidence.\n",
    "\n",
    "\n",
    "As a conclusion, the larger the absolute value of the test statistic, the smaller the p-value, and the greater the evidence against the null hypothesis.\n",
    "\n",
    "\n",
    "[Seeing Theory](https://seeing-theory.brown.edu/basic-probability/index.html#section1)"
   ]
  },
  {
   "cell_type": "code",
   "execution_count": null,
   "metadata": {},
   "outputs": [],
   "source": [
    "import os\n",
    "import glob\n",
    "import pandas as pd\n",
    "import numpy as np\n",
    "import filenames\n",
    "import missingno as msno\n",
    "import matplotlib.pyplot as plt\n",
    "\n",
    "pd.set_option('display.max_rows', 500, 'display.max_columns', 500,\n",
    "              'display.width', 1000)"
   ]
  },
  {
   "cell_type": "markdown",
   "metadata": {},
   "source": [
    "### Data\n",
    "\n",
    "use glob to get all the csv files in the raw data folder."
   ]
  },
  {
   "cell_type": "code",
   "execution_count": null,
   "metadata": {},
   "outputs": [],
   "source": [
    "profile_files = filenames.profile_folder_path.glob(os.path.join(\"*.csv\"))\n",
    "\n",
    "profile_appended_data = []\n",
    "# loop over the list of csv files\n",
    "for f in profile_files:\n",
    "    data = pd.read_csv(f)\n",
    "    profile_appended_data.append(data)\n",
    "#profile_appended_data\n",
    "\n",
    "df = pd.concat(profile_appended_data)\n",
    "df.reset_index(drop=True, inplace=True)"
   ]
  },
  {
   "cell_type": "markdown",
   "metadata": {},
   "source": [
    "#### Drop duplicate userid"
   ]
  },
  {
   "cell_type": "code",
   "execution_count": null,
   "metadata": {},
   "outputs": [],
   "source": [
    "df = df.drop_duplicates(subset=['userid'], keep='last').reset_index(drop=True)"
   ]
  },
  {
   "cell_type": "markdown",
   "metadata": {},
   "source": [
    "#### Create Label for Followers"
   ]
  },
  {
   "cell_type": "code",
   "execution_count": null,
   "metadata": {},
   "outputs": [],
   "source": [
    "import csv\n",
    "fpath = filenames.followers_path\n",
    "follower = []\n",
    "with open(fpath, newline='') as f:\n",
    "    for i in csv.reader(f):\n",
    "        follower.append(i[0])"
   ]
  },
  {
   "cell_type": "code",
   "execution_count": null,
   "metadata": {},
   "outputs": [],
   "source": [
    "len(follower)"
   ]
  },
  {
   "cell_type": "code",
   "execution_count": null,
   "metadata": {},
   "outputs": [],
   "source": [
    "df['is_follower'] = df['username'].isin(follower).astype(int)"
   ]
  },
  {
   "cell_type": "markdown",
   "metadata": {},
   "source": [
    "### Test About One Categorical Variable - Z test"
   ]
  },
  {
   "cell_type": "markdown",
   "metadata": {},
   "source": [
    "#### Sample Question: \n",
    "Is there a difference in the number of folowers and non-followers in the population?"
   ]
  },
  {
   "cell_type": "markdown",
   "metadata": {},
   "source": [
    "For a single categorical variable that we want to check if there is a difference between the number of its values, we will use a one proportion Z test. Let’s state the hypothesis:\n",
    "\n",
    "Ho: there is no difference between the number of followers and non-followers\n",
    "H1: there is a difference between the number of followers and non-followers\n",
    "\n",
    "We need to clarify that this is a two-sided test because we are checking if the proportion of followers Pf is different than non-followers Pn. \n",
    "\n",
    "If we wanted to check if Pf > Pn or Pf < Pf then we would have a one-tailed test."
   ]
  },
  {
   "cell_type": "code",
   "execution_count": null,
   "metadata": {},
   "outputs": [],
   "source": [
    "from statsmodels.stats.proportion import proportions_ztest\n",
    " \n",
    "count = df[df['is_follower'] == 1].shape[0] #number of followers \n",
    "nobs = df.shape[0] #number of rows | or trials \n",
    "value = 0.5 # This is the value of the null hypothesis. That means porpotion of men = porpotion of women = 0.5\n",
    " \n",
    "#we are using alternative='two-sided' because we are chcking Pm≠Pw.\n",
    "#for Pw>Pm we have to set it to \"larger\" and for Pw<Pm to \"smaller\"\n",
    " \n",
    "stat, pval = proportions_ztest(count, nobs, value, alternative='two-sided')\n",
    " \n",
    "print(\"p_value: \",round(pval,3))"
   ]
  },
  {
   "cell_type": "markdown",
   "metadata": {},
   "source": [
    "The p-value is less than 0.05 hence, we reject the null hypothesis at a 95% level of confidence. \n",
    "That means that there is a difference in the number of followers and non-followers in the population."
   ]
  },
  {
   "cell_type": "markdown",
   "metadata": {},
   "source": [
    "### Test About Two Categorical Variables - Chi-Squared Test\n",
    "\n",
    "#### Sample Question: \n",
    "\n",
    "Does the proportion of followers and non-followers differ across is_private?"
   ]
  },
  {
   "cell_type": "markdown",
   "metadata": {},
   "source": [
    "If we want to check the independence of two categorical values, we will use the Chi-Squared test.\n",
    "\n",
    "The key assumptions associated with this test are: \n",
    "1. random sample from the population. \n",
    "2. each subject cannot be in more than 1 group in any variable.\n",
    "\n",
    "Let’s state the hypothesis:\n",
    "\n",
    "* Ho: is_follower and is_private Groups are Independent or there is no significant relationship\n",
    "* H1: is_follower and is_private Groups are Dependent or there is a significant relationship"
   ]
  },
  {
   "cell_type": "code",
   "execution_count": null,
   "metadata": {},
   "outputs": [],
   "source": [
    "from scipy.stats import chi2_contingency\n",
    " \n",
    "#The easiest way to apply a chi-squared test is to compute the contigency table.\n",
    " \n",
    "contigency= pd.crosstab(df['is_follower'], df['is_private'])\n",
    "contigency"
   ]
  },
  {
   "cell_type": "code",
   "execution_count": null,
   "metadata": {},
   "outputs": [],
   "source": [
    "#Chi-square test of independence.\n",
    "c, p, dof, expected = chi2_contingency(contigency)\n",
    " \n",
    "print(\"p_value: \",round(p,3))"
   ]
  },
  {
   "cell_type": "markdown",
   "metadata": {},
   "source": [
    "The p-value is not less than 0.05 hence, we failed to reject the H1 hypothesis at a 95% level of confidence.\n",
    "Or The p-value is over 0.5, so at the significance level of 0.05, we fail to reject that there is no relationship between ‘is_follower’ and ‘is_private’.\n",
    "\n",
    "That means that 'is_follower' and 'is_private' Groups are Dependent.\n",
    "\n",
    "[Further Reading](https://towardsdatascience.com/chi-square-test-for-independence-in-python-with-examples-from-the-ibm-hr-analytics-dataset-97b9ec9bb80a)\n",
    "\n",
    "##### Caveats and Limitations\n",
    "There are a few caveats when conducting this analysis as well as some limitations of this test:\n",
    "\n",
    "1. In order to draw a meaningful conclusion, the number of samples in each scenario needs to be sufficiently large, which might not be the case in reality.\n",
    "2. A significant relationship does not imply causality.\n",
    "3. The Chi-square test itself does not provide additional insights besides ‘significant relationship or not’. For example, the test does not inform that as \"is_follower\" increases, the proportion of \"is_private\" tends to decrease."
   ]
  },
  {
   "cell_type": "code",
   "execution_count": null,
   "metadata": {},
   "outputs": [],
   "source": [
    "def chi2_square_test(col1, col2):\n",
    "    contigency= pd.crosstab(df[col1], df[col2])\n",
    "    #Chi-square test of independence.\n",
    "    c, p, dof, expected = chi2_contingency(contigency)\n",
    "\n",
    "    print(\"p_value: \",round(p,3))"
   ]
  },
  {
   "cell_type": "code",
   "execution_count": null,
   "metadata": {},
   "outputs": [],
   "source": [
    "chi2_square_test('is_follower', 'is_business_account')"
   ]
  },
  {
   "cell_type": "markdown",
   "metadata": {},
   "source": [
    "'is_follower' and 'is_business_account' Groups are Dependent."
   ]
  },
  {
   "cell_type": "code",
   "execution_count": null,
   "metadata": {},
   "outputs": [],
   "source": [
    "chi2_square_test('is_follower', 'has_public_story')"
   ]
  },
  {
   "cell_type": "markdown",
   "metadata": {},
   "source": [
    "'is_follower' and 'has_public_story' Groups are Independent."
   ]
  },
  {
   "cell_type": "markdown",
   "metadata": {},
   "source": [
    "### Test About one Categorical and one Numeric Variable - T test\n",
    "\n",
    "#### Sample Question: \n",
    "\n",
    "Is there a difference in height between men and women?\n",
    "\n",
    "In this situation, we will use a T-Test (students T-Test).\n",
    "\n",
    "* Ho: There is no difference\n",
    "* H1: There is a difference\n",
    "\n",
    "A t-test looks at the t-statistic, the t-distribution values, and the degrees of freedom to determine the statistical significance.\n",
    "\n",
    "##### What Is a T Distribution?\n",
    "The T distribution, also known as the Student’s t-distribution, is a type of probability distribution that is similar to the normal distribution with its bell shape but has heavier tails. T distributions have a greater chance for extreme values than normal distributions, hence the fatter tails.\n",
    "\n",
    "[Further Reading](https://www.investopedia.com/terms/t/tdistribution.asp)"
   ]
  },
  {
   "cell_type": "code",
   "execution_count": null,
   "metadata": {},
   "outputs": [],
   "source": [
    "from scipy.stats import ttest_ind\n",
    " \n",
    "#this is a two-sided test\n",
    "#you can divide the two-sided p-value by two, and this will give you the one-sided one.\n",
    " \n",
    "t_stat, p = ttest_ind(df.query('is_follower== 1')['mediacount'], df.query('is_follower== 0')['mediacount'])\n",
    " \n",
    "print(\"p_value: \",round(p,3))"
   ]
  },
  {
   "cell_type": "markdown",
   "metadata": {},
   "source": [
    "The p-value is less than 0.05 hence, we reject the null hypothesis at a 95% level of confidence. That means that there is a difference in mediacounts between followers and non-followers."
   ]
  },
  {
   "cell_type": "code",
   "execution_count": null,
   "metadata": {},
   "outputs": [],
   "source": [
    "t_stat, p = ttest_ind(df.query('is_follower== 1')['followers'], df.query('is_follower== 0')['followers'])\n",
    " \n",
    "print(\"p_value: \",round(p,3))"
   ]
  },
  {
   "cell_type": "code",
   "execution_count": null,
   "metadata": {},
   "outputs": [],
   "source": [
    "t_stat, p = ttest_ind(df.query('is_follower== 1')['followees'], df.query('is_follower== 0')['followees'])\n",
    " \n",
    "print(\"p_value: \",round(p,3))"
   ]
  },
  {
   "cell_type": "code",
   "execution_count": null,
   "metadata": {},
   "outputs": [],
   "source": [
    "df.columns"
   ]
  },
  {
   "cell_type": "markdown",
   "metadata": {},
   "source": [
    "### Test About one Categorical with more than two unique values and one Numeric Variable. - ANOVA\n",
    "\n",
    "#### Sample Question:\n",
    "\n",
    "s there a difference in 'followers' between'business_category_name' groups?\n",
    "\n",
    "Now, we will use the ANOVA (Analysis Of Variance) test.\n",
    "\n",
    "* Ho: Groups means of followers are equal\n",
    "* H1: At least, one group mean of followers is different from other groups"
   ]
  },
  {
   "cell_type": "code",
   "execution_count": null,
   "metadata": {},
   "outputs": [],
   "source": [
    "df['business_category_name'].value_counts()"
   ]
  },
  {
   "cell_type": "code",
   "execution_count": null,
   "metadata": {},
   "outputs": [],
   "source": [
    "import scipy.stats as stats\n",
    " \n",
    "# stats f_oneway functions takes the groups as input and returns ANOVA F and p value\n",
    "fvalue, pvalue = stats.f_oneway(df.query('business_category_name == \"Creators & Celebrities\"')['followers'],\n",
    "                                df.query('business_category_name == \"Personal Goods & General Merchandise Stores\"')['followers'],\n",
    "                                df.query('business_category_name == \"Transportation & Accomodation Services\"')['followers'])\n",
    " \n",
    "print(\"p_value: \",round(pvalue,3))"
   ]
  },
  {
   "cell_type": "markdown",
   "metadata": {},
   "source": [
    "The p-value is not less than 0.05 hence, we failed to reject the null hypothesis at a 95% level of confidence."
   ]
  },
  {
   "cell_type": "markdown",
   "metadata": {},
   "source": [
    "### Test About Two Numeric Variables - Correlation\n",
    "#### Sample Question: \n",
    "Is there a relationship between height and weight?\n",
    "\n",
    "* Ho: There is no relationship between height and weight\n",
    "* H1: There is a relationship between height and weight\n",
    "\n",
    "We will use a correlation test. A correlation test will give us two things, a correlation coefficient, and a p-value. As you may already know the correlation coefficient is the number that shows us how correlated are the two variables. For its p-value, we are applying the same principles as before, if the p-value is less than 0.05 we reject the null hypothesis."
   ]
  },
  {
   "cell_type": "code",
   "execution_count": null,
   "metadata": {},
   "outputs": [],
   "source": [
    "import scipy.stats as stats\n",
    " \n",
    "#for this example we will use the Pearson Correlation.\n",
    "pearson_coef, p_value = stats.pearsonr(df[\"mediacount\"], df[\"followers\"])\n",
    " \n",
    "print(\"Pearson Correlation Coefficient: \", pearson_coef, \"and a P-value of:\", round(p_value,3) )"
   ]
  },
  {
   "cell_type": "markdown",
   "metadata": {},
   "source": []
  },
  {
   "cell_type": "code",
   "execution_count": null,
   "metadata": {},
   "outputs": [],
   "source": [
    "#for this example we will use the Pearson Correlation.\n",
    "pearson_coef, p_value = stats.pearsonr(df[\"mediacount\"], df[\"followees\"])\n",
    " \n",
    "print(\"Pearson Correlation Coefficient: \", pearson_coef, \"and a P-value of:\", round(p_value,3) )"
   ]
  },
  {
   "cell_type": "code",
   "execution_count": null,
   "metadata": {},
   "outputs": [],
   "source": [
    "#for this example we will use the Pearson Correlation.\n",
    "pearson_coef, p_value = stats.pearsonr(df[\"followers\"], df[\"followees\"])\n",
    " \n",
    "print(\"Pearson Correlation Coefficient: \", pearson_coef, \"and a P-value of:\", round(p_value,3) )"
   ]
  },
  {
   "cell_type": "markdown",
   "metadata": {},
   "source": [
    "As we can see the p-value is less than 0.05 hence, we reject the null hypothesis at a 95% level of confidence. That means that there is a relationship between height and weight."
   ]
  },
  {
   "cell_type": "code",
   "execution_count": null,
   "metadata": {},
   "outputs": [],
   "source": []
  }
 ],
 "metadata": {
  "interpreter": {
   "hash": "8e88e18f642312201c56837a6b99762295fbd9da17f5aaf449f73ef004e8be5c"
  },
  "kernelspec": {
   "display_name": "Python 3 (ipykernel)",
   "language": "python",
   "name": "python3"
  },
  "language_info": {
   "codemirror_mode": {
    "name": "ipython",
    "version": 3
   },
   "file_extension": ".py",
   "mimetype": "text/x-python",
   "name": "python",
   "nbconvert_exporter": "python",
   "pygments_lexer": "ipython3",
   "version": "3.9.10"
  }
 },
 "nbformat": 4,
 "nbformat_minor": 4
}
