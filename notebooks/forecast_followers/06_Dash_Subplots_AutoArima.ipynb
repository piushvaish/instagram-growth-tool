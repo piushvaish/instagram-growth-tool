{
 "cells": [
  {
   "cell_type": "markdown",
   "id": "b4eb4028",
   "metadata": {},
   "source": [
    "### Links\n",
    "* https://community.plotly.com/t/announcing-plotly-py-4-8-plotly-express-support-for-wide-and-mixed-form-data-plus-a-pandas-backend/40048\n",
    "* https://plotly.com/python/styling-plotly-express/\n",
    "* https://towardsdatascience.com/the-best-format-to-save-pandas-data-414dca023e0d"
   ]
  },
  {
   "cell_type": "code",
   "execution_count": null,
   "id": "d6b711b3",
   "metadata": {},
   "outputs": [],
   "source": [
    "%load_ext autoreload\n",
    "%autoreload 2\n",
    "%matplotlib inline\n",
    "\n",
    "import sys\n",
    "import pandas as pd\n",
    "import numpy as np\n",
    "\n",
    "from darts import TimeSeries\n",
    "from darts.models import  AutoARIMA\n",
    "                          \n",
    "\n",
    "import plotly.express as px\n",
    "from jupyter_dash import JupyterDash\n",
    "import dash_core_components as dcc\n",
    "import dash_html_components as html\n",
    "from dash.dependencies import Input, Output\n",
    "import plotly.graph_objects as go\n",
    "import plotly.subplots as sp\n",
    "import plotly.io as pio\n",
    "\n",
    "\n",
    "pio.templates.default = \"simple_white\"\n",
    "\n",
    "px.defaults.template = \"ggplot2\"\n",
    "px.defaults.color_continuous_scale = px.colors.sequential.Blackbody\n",
    "px.defaults.width = 700\n",
    "px.defaults.height = 400\n",
    "\n",
    "import warnings\n",
    "warnings.filterwarnings(\"ignore\")\n",
    "import logging\n",
    "logging.disable(logging.CRITICAL)"
   ]
  },
  {
   "cell_type": "code",
   "execution_count": null,
   "id": "1b3966f0",
   "metadata": {},
   "outputs": [],
   "source": [
    "df = pd.read_csv(\"../../data/later/profile_growth.csv\")\n",
    "df['Date'] = pd.to_datetime(df['Date'])\n",
    "# Create a TimeSeries, specifying the time and value columns\n",
    "series = TimeSeries.from_dataframe(df, 'Date', 'Followers')"
   ]
  },
  {
   "cell_type": "code",
   "execution_count": null,
   "id": "14066a20",
   "metadata": {},
   "outputs": [],
   "source": [
    "# Create figures in Express\n",
    "figure1 = px.line(df, x=\"Date\", y=[\"Followers\"], title='Followers')\n",
    "figure2 = px.line(df,\n",
    "                  x=\"Date\",\n",
    "                  y=[\"Impressions\", \"Reach\"],\n",
    "                  title='Impressions & Reach')\n",
    "\n",
    "\n",
    "# For as many traces that exist per Express figure, get the traces from each plot and store them in an array.\n",
    "# This is essentially breaking down the Express fig into it's traces\n",
    "figure1_traces = []\n",
    "figure2_traces = []\n",
    "for trace in range(len(figure1[\"data\"])):\n",
    "    figure1_traces.append(figure1[\"data\"][trace])\n",
    "for trace in range(len(figure2[\"data\"])):\n",
    "    figure2_traces.append(figure2[\"data\"][trace])"
   ]
  },
  {
   "cell_type": "code",
   "execution_count": null,
   "id": "a53d114e",
   "metadata": {},
   "outputs": [],
   "source": [
    "model = AutoARIMA()\n",
    "model.fit(series)\n",
    "forecast = model.predict(3)\n",
    "series_df = series.pd_dataframe().reset_index()#.set_index('component')\n",
    "forecast_df = forecast.pd_dataframe().reset_index()"
   ]
  },
  {
   "cell_type": "code",
   "execution_count": null,
   "id": "8c6f39ca",
   "metadata": {},
   "outputs": [],
   "source": []
  },
  {
   "cell_type": "code",
   "execution_count": null,
   "id": "1721115e",
   "metadata": {},
   "outputs": [],
   "source": [
    "# Create traces\n",
    "forecast_fig = go.Figure()\n",
    "forecast_fig.add_trace(go.Scatter( x=series_df['Date'], y=series_df['Followers'],\n",
    "                    mode='lines+markers',\n",
    "                    name='ToDate'))\n",
    "forecast_fig.add_trace(go.Scatter(x=forecast_df['Date'], y=forecast_df['Followers'],\n",
    "                    mode='lines+markers',\n",
    "                    name='Forecast'))"
   ]
  },
  {
   "cell_type": "code",
   "execution_count": null,
   "id": "80f78252",
   "metadata": {},
   "outputs": [],
   "source": [
    "# Create a 1x2 subplot\n",
    "this_figure = sp.make_subplots(rows=2,\n",
    "                               cols=1,\n",
    "                               subplot_titles=(\"Followers\", \"Impressions & Reach\"),\n",
    "                               row_heights=[0.3, 0.7])\n",
    "\n",
    "# Get the Express fig broken down as traces and add the traces to the proper plot within in the subplot\n",
    "for traces in figure1_traces:\n",
    "    this_figure.append_trace(traces, row=1, col=1)\n",
    "for traces in figure2_traces:\n",
    "    this_figure.append_trace(traces, row=2, col=1)\n",
    "    \n",
    "# Update xaxis properties\n",
    "#this_figure.update_xaxes(title_text=\"Date\", row=1, col=1)\n",
    "\n",
    "# Update yaxis properties\n",
    "this_figure.update_yaxes(title_text=\"Count\", visible=False, fixedrange=True, row=1, col=1)\n",
    "this_figure.update_yaxes(title_text=\"Count\", row=2, col=1)\n",
    "\n",
    "# hide and lock down axes\n",
    "\n",
    "\n",
    "this_figure.update_layout(showlegend=False,\n",
    "                          height=700,\n",
    "                          width=700,\n",
    "                          title_text=\"Profile Growth & Discovery\")\n",
    "# Load Data\n",
    "df = px.data.tips()\n",
    "# Build App\n",
    "app = JupyterDash(__name__)\n",
    "app.layout = html.Div(\n",
    "    [html.H1(\"JupyterDash Demo\"),\n",
    "     html.Div([dcc.Graph(figure=this_figure)]),\n",
    "     html.Div([dcc.Graph(figure=forecast_fig)])\n",
    "     \n",
    "    ])\n",
    "\n",
    "# Run app and display result inline in the notebook\n",
    "app.run_server(mode='external')"
   ]
  },
  {
   "cell_type": "code",
   "execution_count": null,
   "id": "491b9d1b",
   "metadata": {},
   "outputs": [],
   "source": []
  }
 ],
 "metadata": {
  "kernelspec": {
   "display_name": "instagram-growth-strategy",
   "language": "python",
   "name": "instagram-growth-strategy"
  },
  "language_info": {
   "codemirror_mode": {
    "name": "ipython",
    "version": 3
   },
   "file_extension": ".py",
   "mimetype": "text/x-python",
   "name": "python",
   "nbconvert_exporter": "python",
   "pygments_lexer": "ipython3",
   "version": "3.9.10"
  }
 },
 "nbformat": 4,
 "nbformat_minor": 5
}
