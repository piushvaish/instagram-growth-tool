{
 "cells": [
  {
   "cell_type": "markdown",
   "metadata": {},
   "source": [
    "A common use case requires the forecaster to regularly update with new data and make forecasts on a rolling basis. This is especially useful if the same kind of forecast has to be made at regular time points, e.g., daily or weekly. sktime forecasters support this type of deployment workflow via the update and update_predict methods.\n",
    "\n",
    "The update method can be called when a forecaster is already fitted, to ingest new data and make updated forecasts - this is referred to as an “update step”.\n",
    "\n",
    "After the update, the forecaster’s internal “now” state (the cutoff) is set to the latest time stamp seen in the update batch (assumed to be later than previously seen data).\n",
    "\n",
    "The general pattern is as follows:\n",
    "\n",
    "1. specify a forecasting strategy\n",
    "\n",
    "2. specify a relative forecasting horizon\n",
    "\n",
    "3. fit the forecaster to an initial batch of data using fit\n",
    "\n",
    "4. make forecasts for the relative forecasting horizon, using predict\n",
    "\n",
    "5. obtain new data; use update to ingest new data\n",
    "\n",
    "6. make forecasts using predict for the updated data\n",
    "\n",
    "7. repeat 5 and 6 as often as required\n",
    "\n",
    "Example: suppose that, in the airline example, we want to make forecasts a year ahead, but every month, starting December 1957. The first few months, forecasts would be made as follows:"
   ]
  },
  {
   "cell_type": "code",
   "execution_count": null,
   "metadata": {},
   "outputs": [],
   "source": [
    "import pandas as pd\n",
    "from sktime.forecasting.ets import AutoETS\n",
    "from sktime.utils.plotting import plot_series\n",
    "import numpy as np"
   ]
  },
  {
   "cell_type": "code",
   "execution_count": null,
   "metadata": {},
   "outputs": [],
   "source": [
    "# we prepare the full data set for convenience\n",
    "# note that in the scenario we will \"know\" only part of this at certain time points\n",
    "df = pd.read_csv(\"../../data/later/profile_growth.csv\")\n",
    "\n",
    "#df.columns\n",
    "\n",
    "followers = df[['Date', 'Followers']]\n",
    "\n",
    "followers['Date'] = pd.PeriodIndex(pd.DatetimeIndex(followers['Date']), freq='D') \n",
    "\n",
    "y = followers.set_index('Date').sort_index()"
   ]
  },
  {
   "cell_type": "code",
   "execution_count": null,
   "metadata": {},
   "outputs": [],
   "source": [
    "from sktime.forecasting.naive import NaiveForecaster\n",
    "forecaster = NaiveForecaster(strategy=\"last\")\n",
    "# December 1957\n",
    "\n",
    "# this is the data known in December 1975\n",
    "y_1957Dec = y[:-36]\n",
    "\n",
    "# step 1: specifying the forecasting strategy\n",
    "#forecaster = AutoETS(auto=True, sp=7, n_jobs=-1)\n",
    "\n",
    "# step 2: specifying the forecasting horizon: one year ahead, all months\n",
    "fh = np.arange(1, 13)\n",
    "\n",
    "# step 3: this is the first time we use the model, so we fit it\n",
    "forecaster.fit(y_1957Dec)\n",
    "\n",
    "# step 4: obtaining the first batch of forecasts for Jan 1958 - Dec 1958\n",
    "y_pred_1957Dec = forecaster.predict(fh)"
   ]
  },
  {
   "cell_type": "code",
   "execution_count": null,
   "metadata": {},
   "outputs": [],
   "source": [
    "# plotting predictions and past data\n",
    "plot_series(y_1957Dec, y_pred_1957Dec, labels=[\"y_1957Dec\", \"y_pred_1957Dec\"])"
   ]
  },
  {
   "cell_type": "code",
   "execution_count": null,
   "metadata": {},
   "outputs": [],
   "source": [
    "# January 1958\n",
    "\n",
    "# new data is observed:\n",
    "y_1958Jan = y[:-36]\n",
    "\n",
    "# step 5: we update the forecaster with the new data\n",
    "forecaster.update(y_1958Jan)\n",
    "\n",
    "# step 6: making forecasts with the updated data\n",
    "y_pred_1958Jan = forecaster.predict(fh)"
   ]
  },
  {
   "cell_type": "code",
   "execution_count": null,
   "metadata": {},
   "outputs": [],
   "source": [
    "# note that the fh is relative, so forecasts are automatically for 1 month later\n",
    "#  i.e., from Feb 1958 to Jan 1959\n",
    "y_pred_1958Jan"
   ]
  },
  {
   "cell_type": "code",
   "execution_count": null,
   "metadata": {},
   "outputs": [],
   "source": [
    "# plotting predictions and past data\n",
    "plot_series(\n",
    "    y[:-35],\n",
    "    y_pred_1957Dec,\n",
    "    y_pred_1958Jan,\n",
    "    labels=[\"y_1957Dec\", \"y_pred_1957Dec\", \"y_pred_1958Jan\"],\n",
    ")"
   ]
  },
  {
   "cell_type": "code",
   "execution_count": null,
   "metadata": {},
   "outputs": [],
   "source": [
    "# February 1958\n",
    "\n",
    "# new data is observed:\n",
    "y_1958Feb = y[:-35]\n",
    "\n",
    "# step 5: we update the forecaster with the new data\n",
    "forecaster.update(y_1958Feb)\n",
    "\n",
    "# step 6: making forecasts with the updated data\n",
    "y_pred_1958Feb = forecaster.predict(fh)"
   ]
  },
  {
   "cell_type": "code",
   "execution_count": null,
   "metadata": {},
   "outputs": [],
   "source": [
    "# plotting predictions and past data\n",
    "plot_series(\n",
    "    y[:-35],\n",
    "    y_pred_1957Dec,\n",
    "    y_pred_1958Jan,\n",
    "    y_pred_1958Feb,\n",
    "    labels=[\"y_1957Dec\", \"y_pred_1957Dec\", \"y_pred_1958Jan\", \"y_pred_1958Feb\"],\n",
    ")"
   ]
  },
  {
   "cell_type": "markdown",
   "metadata": {},
   "source": [
    "… and so on.\n",
    "\n",
    "A shorthand for running first update and then predict is update_predict_single - for some algorithms, this may be more efficient than the separate calls to update and predict:"
   ]
  },
  {
   "cell_type": "code",
   "execution_count": null,
   "metadata": {},
   "outputs": [],
   "source": [
    "# March 1958\n",
    "\n",
    "# new data is observed:\n",
    "y_1958Mar = y[:-34]\n",
    "\n",
    "# step 5&6: update/predict in one step\n",
    "forecaster.update_predict_single(y_1958Mar, fh=fh)"
   ]
  },
  {
   "cell_type": "markdown",
   "metadata": {},
   "source": [
    "In the rolling deployment mode, may be useful to move the estimator’s “now” state (the cutoff) to later, for example if no new data was observed, but time has progressed; or, if computations take too long, and forecasts have to be queried.\n",
    "\n",
    "The update interface provides an option for this, via the update_params argument of update and other update funtions.\n",
    "\n",
    "If update_params is set to False, no model update computations are performed; only data is stored, and the internal “now” state (the cutoff) is set to the most recent date."
   ]
  },
  {
   "cell_type": "code",
   "execution_count": null,
   "metadata": {},
   "outputs": [],
   "source": [
    "# April 1958\n",
    "\n",
    "# new data is observed:\n",
    "y_1958Apr = y[:-33]\n",
    "\n",
    "# step 5: perform an update without re-computing the model parameters\n",
    "forecaster.update(y_1958Apr, update_params=False)"
   ]
  },
  {
   "cell_type": "markdown",
   "metadata": {},
   "source": [
    "sktime can also simulate the update/predict deployment mode with a full batch of data.\n",
    "\n",
    "This is not useful in deployment, as it requires all data to be available in advance; however, it is useful in playback, such as for simulations or model evaluation.\n",
    "\n",
    "The update/predict playback mode can be called using update_predict and a re-sampling constructor which encodes the precise walk-forward scheme."
   ]
  },
  {
   "cell_type": "markdown",
   "metadata": {},
   "source": [
    "To evaluate forecasters with respect to their performance in rolling forecasting, the forecaster needs to be tested in a set-up mimicking rolling forecasting, usually on past data. Note that the batch back-testing as in Section 1.3 would not be an appropriate evaluation set-up for rolling deployment, as that tests only a single forecast batch.\n",
    "\n",
    "The advanced evaluation workflow can be carried out using the evaluate benchmarking function. evalute takes as arguments: - a forecaster to be evaluated - a scikit-learn re-sampling strategy for temporal splitting (cv below), e.g., ExpandingWindowSplitter or SlidingWindowSplitter - a strategy (string): whether the forecaster should be always be refitted or just fitted once and then updated"
   ]
  },
  {
   "cell_type": "code",
   "execution_count": null,
   "metadata": {},
   "outputs": [],
   "source": [
    "#from sktime.forecasting.arima import AutoARIMA\n",
    "from sktime.forecasting.ets import AutoETS\n",
    "from sktime.forecasting.model_evaluation import evaluate\n",
    "from sktime.forecasting.model_selection import ExpandingWindowSplitter"
   ]
  },
  {
   "cell_type": "code",
   "execution_count": null,
   "metadata": {},
   "outputs": [],
   "source": [
    "#forecaster = AutoARIMA(sp=12, suppress_warnings=True)\n",
    "forecaster = AutoETS(auto=True, sp=12, n_jobs=-1)\n",
    "#forecaster = NaiveForecaster(strategy=\"last\")\n",
    "\n",
    "cv = ExpandingWindowSplitter(\n",
    "    step_length=12, fh=[1, 2, 3, 4, 5, 6, 7, 8, 9, 10, 11, 12], initial_window=72\n",
    ")\n",
    "\n",
    "df = evaluate(forecaster=forecaster, y=y, cv=cv, strategy=\"refit\", return_data=True)\n",
    "\n",
    "df.iloc[:, :5]"
   ]
  },
  {
   "cell_type": "code",
   "execution_count": null,
   "metadata": {},
   "outputs": [],
   "source": [
    "# visualization of a forecaster evaluation\n",
    "fig, ax = plot_series(\n",
    "    y,\n",
    "    df[\"y_pred\"].iloc[0],\n",
    "    df[\"y_pred\"].iloc[1],\n",
    "    df[\"y_pred\"].iloc[2],\n",
    "    df[\"y_pred\"].iloc[3],\n",
    "    df[\"y_pred\"].iloc[4],\n",
    "    df[\"y_pred\"].iloc[5],\n",
    "    markers=[\"o\", \"\", \"\", \"\", \"\", \"\", \"\"],\n",
    "    labels=[\"y_true\"] + [\"y_pred (Backtest \" + str(x) + \")\" for x in range(6)],\n",
    ")\n",
    "ax.legend();"
   ]
  },
  {
   "cell_type": "code",
   "execution_count": null,
   "metadata": {},
   "outputs": [],
   "source": [
    "df[\"y_pred\"].iloc[0]"
   ]
  },
  {
   "cell_type": "code",
   "execution_count": null,
   "metadata": {},
   "outputs": [],
   "source": [
    "df[\"y_pred\"].iloc[1]"
   ]
  },
  {
   "cell_type": "code",
   "execution_count": null,
   "metadata": {},
   "outputs": [],
   "source": []
  }
 ],
 "metadata": {
  "kernelspec": {
   "display_name": "instagram-growth-strategy",
   "language": "python",
   "name": "instagram-growth-strategy"
  },
  "language_info": {
   "codemirror_mode": {
    "name": "ipython",
    "version": 3
   },
   "file_extension": ".py",
   "mimetype": "text/x-python",
   "name": "python",
   "nbconvert_exporter": "python",
   "pygments_lexer": "ipython3",
   "version": "3.9.10"
  }
 },
 "nbformat": 4,
 "nbformat_minor": 4
}
