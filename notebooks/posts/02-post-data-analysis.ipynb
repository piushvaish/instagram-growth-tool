{
 "cells": [
  {
   "cell_type": "code",
   "execution_count": null,
   "metadata": {},
   "outputs": [],
   "source": [
    "import os\n",
    "import glob\n",
    "import pycld2 as cld2\n",
    "import pandas as pd\n",
    "import numpy as np\n",
    "from pathlib import Path\n",
    "\n",
    "pd.set_option('display.max_rows', 500)\n",
    "pd.set_option('display.max_columns', 500)\n",
    "pd.set_option('display.width', 1000)"
   ]
  },
  {
   "cell_type": "markdown",
   "metadata": {},
   "source": [
    "## Posts"
   ]
  },
  {
   "cell_type": "code",
   "execution_count": null,
   "metadata": {},
   "outputs": [],
   "source": [
    "# Use of parents1\n",
    "data_path = Path.cwd().parents[1].joinpath('data')\n",
    "raw_data_path = data_path.joinpath('raw')\n",
    "intermediate_data_path = data_path.joinpath('intermediate')\n",
    "processed_data_path = data_path.joinpath('processed')\n",
    "post_path = raw_data_path.joinpath('post')\n",
    "user_path = raw_data_path.joinpath('users', 'followers.txt')\n",
    "todate_path = intermediate_data_path.joinpath('extracted_todate', 'usernames_todate.txt')\n",
    "processed_post_path = processed_data_path.joinpath('post', 'processed_data.csv')"
   ]
  },
  {
   "cell_type": "code",
   "execution_count": null,
   "metadata": {},
   "outputs": [],
   "source": [
    "from datetime import datetime\n",
    "# use glob to get all the csv files \n",
    "# in the folder\n",
    "# use glob to get all the csv files in the raw data folder. \n",
    "post_files = post_path.glob(os.path.join(\"*.csv\"))\n",
    "\n",
    "post_appended_data = []\n",
    "# loop over the list of csv files\n",
    "for f in post_files:\n",
    "    data = pd.read_csv(f) \n",
    "    post_appended_data.append(data)\n",
    "# see pd.concat documentation for more info\n",
    "df = pd.concat(post_appended_data)\n",
    "df.reset_index(drop=True, inplace=True)"
   ]
  },
  {
   "cell_type": "code",
   "execution_count": null,
   "metadata": {},
   "outputs": [],
   "source": [
    "df.head()"
   ]
  },
  {
   "cell_type": "code",
   "execution_count": null,
   "metadata": {},
   "outputs": [],
   "source": [
    "df['url'].nunique()"
   ]
  },
  {
   "cell_type": "code",
   "execution_count": null,
   "metadata": {},
   "outputs": [],
   "source": [
    "list(df['caption_hashtags'][41:43])"
   ]
  },
  {
   "cell_type": "markdown",
   "metadata": {},
   "source": [
    "We have the number of people who have created their own content. We can do an analysis on these people to find information such as:\n",
    "* Time they are posting\n",
    "* Mentions\n",
    "* Topic / Niche\n",
    "* Sentiment Analysis\n",
    "* Brand Voice\n"
   ]
  },
  {
   "cell_type": "markdown",
   "metadata": {},
   "source": [
    "**There are missing values, so possible solution is remove them by dropna - after assign to column back are created again**"
   ]
  },
  {
   "cell_type": "markdown",
   "metadata": {},
   "source": [
    "### Hour to post "
   ]
  },
  {
   "cell_type": "code",
   "execution_count": null,
   "metadata": {},
   "outputs": [],
   "source": [
    "df['hour'] = pd.to_datetime(df['date_utc']).dt.hour"
   ]
  },
  {
   "cell_type": "code",
   "execution_count": null,
   "metadata": {},
   "outputs": [],
   "source": [
    "df['hour'].hist(bins=24)"
   ]
  },
  {
   "cell_type": "code",
   "execution_count": null,
   "metadata": {},
   "outputs": [],
   "source": [
    "df['caption'].iloc[0]"
   ]
  },
  {
   "cell_type": "code",
   "execution_count": null,
   "metadata": {},
   "outputs": [],
   "source": [
    "df['tagged_users'].iloc[11]"
   ]
  },
  {
   "cell_type": "code",
   "execution_count": null,
   "metadata": {},
   "outputs": [],
   "source": [
    "df['hashtag_set'] = df['caption_hashtags'].dropna().apply(lambda x: list({item for item in x.lstrip(\"[\").rstrip(\"]\").split(\",\")}))"
   ]
  },
  {
   "cell_type": "code",
   "execution_count": null,
   "metadata": {},
   "outputs": [],
   "source": [
    "df['tagged_users_set'] = df['tagged_users'].dropna().apply(lambda x: list({item for item in x.lstrip(\"[\").rstrip(\"]\").split(\",\")}))"
   ]
  },
  {
   "cell_type": "code",
   "execution_count": null,
   "metadata": {},
   "outputs": [],
   "source": [
    "df.columns"
   ]
  },
  {
   "cell_type": "markdown",
   "metadata": {},
   "source": [
    "### Grouped Data "
   ]
  },
  {
   "cell_type": "code",
   "execution_count": null,
   "metadata": {},
   "outputs": [],
   "source": [
    "grouped = df.groupby('owner_id', as_index=False).agg(\n",
    "    {\n",
    "         'date_utc': lambda x: (list(x)),    # Sum duration per group\n",
    "          'profile': 'count',  # get the count of networks\n",
    "          'typename': ['count', lambda x: (list(x))],\n",
    "        'mediacount' : sum,\n",
    "        'caption': lambda x: list(x), \n",
    "        'caption_hashtags': lambda x: ','.join(set(x)),\n",
    "        'caption_mentions' : lambda x: \",\".join(set(x)), \n",
    "        'tagged_users' : lambda x: ','.join(set(x)), \n",
    "        'is_video' : lambda x: (list(x)),  \n",
    "        'video_view_count' : lambda x: (list(x)), \n",
    "        'video_duration' : lambda x: (list(x)),  \n",
    "        'likes': ['sum', 'mean', lambda x: (list(x))], \n",
    "        'comments': ['sum', 'mean',lambda x: (list(x))], \n",
    "        'is_sponsored': lambda x: (list(x)), \n",
    "        'sponsor_users': lambda x: (list(x)), \n",
    "        'location' : lambda x: (list(x)), \n",
    "        'days_ago': ['min', lambda x: (list(x))]\n",
    "    }\n",
    ")\n",
    "\n",
    "# Using ravel, and a string join, we can create better names for the columns:\n",
    "grouped.columns = [\"_\".join(x) for x in grouped.columns.ravel()]"
   ]
  },
  {
   "cell_type": "code",
   "execution_count": null,
   "metadata": {},
   "outputs": [],
   "source": [
    "rename_columns_dict = {\n",
    "    'owner_id_': 'userid',\n",
    "    'date_utc_<lambda>': 'date_utc',\n",
    "    'typename_<lambda_0>': 'typename',\n",
    "    'caption_<lambda>': 'caption',\n",
    "    'caption_hashtags_<lambda>': 'caption_hashtags',\n",
    "    'caption_mentions_<lambda>': 'caption_mentions',\n",
    "    'tagged_users_<lambda>': 'tagged_users',\n",
    "    'is_video_<lambda>': 'is_video',\n",
    "    'video_view_count_<lambda>': 'video_view_count',\n",
    "    'video_duration_<lambda>': 'video_duration', \n",
    "    'likes_<lambda_0>': 'likes',\n",
    "    'comments_<lambda_0>': 'comments', \n",
    "    'is_sponsored_<lambda>': 'is_sponsored', \n",
    "    'sponsor_users_<lambda>': 'sponsor_users', \n",
    "    'location_<lambda>': 'location', \n",
    "    'days_ago_<lambda_0>': 'days_ago'\n",
    "    \n",
    "    \n",
    "}\n",
    "grouped.rename(columns= rename_columns_dict, inplace = True)"
   ]
  },
  {
   "cell_type": "code",
   "execution_count": null,
   "metadata": {},
   "outputs": [],
   "source": [
    "grouped.shape"
   ]
  },
  {
   "cell_type": "code",
   "execution_count": null,
   "metadata": {},
   "outputs": [],
   "source": []
  }
 ],
 "metadata": {
  "kernelspec": {
   "display_name": "Python 3 (ipykernel)",
   "language": "python",
   "name": "python3"
  },
  "language_info": {
   "codemirror_mode": {
    "name": "ipython",
    "version": 3
   },
   "file_extension": ".py",
   "mimetype": "text/x-python",
   "name": "python",
   "nbconvert_exporter": "python",
   "pygments_lexer": "ipython3",
   "version": "3.9.10"
  }
 },
 "nbformat": 4,
 "nbformat_minor": 4
}
